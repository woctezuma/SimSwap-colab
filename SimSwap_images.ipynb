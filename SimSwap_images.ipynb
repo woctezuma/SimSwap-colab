{
  "nbformat": 4,
  "nbformat_minor": 0,
  "metadata": {
    "colab": {
      "name": "SimSwap_images.ipynb",
      "private_outputs": true,
      "provenance": [],
      "collapsed_sections": [
        "xTo1C8aPUoOh",
        "rcoRX8OnVImS"
      ]
    },
    "kernelspec": {
      "name": "python3",
      "display_name": "Python 3"
    },
    "language_info": {
      "name": "python"
    },
    "accelerator": "GPU"
  },
  "cells": [
    {
      "cell_type": "markdown",
      "metadata": {
        "id": "7_gtFoV8BuRx"
      },
      "source": [
        "# SimSwap\n",
        "Reference: https://github.com/neuralchen/SimSwap"
      ]
    },
    {
      "cell_type": "markdown",
      "metadata": {
        "id": "D4fUfjQYUlYz"
      },
      "source": [
        "## Prepare code"
      ]
    },
    {
      "cell_type": "code",
      "metadata": {
        "id": "3An-Ghx3AWgE"
      },
      "source": [
        "!pip install --upgrade pip"
      ],
      "execution_count": null,
      "outputs": []
    },
    {
      "cell_type": "code",
      "metadata": {
        "id": "VA_4CeWZCHLP"
      },
      "source": [
        "%cd /workspace\n",
        "!git clone https://github.com/woctezuma/SimSwap.git\n",
        "%cd /workspace/SimSwap/\n",
        "!git checkout upgrade-insightface"
      ],
      "execution_count": null,
      "outputs": []
    },
    {
      "cell_type": "code",
      "metadata": {
        "id": "Y5K4au_UCkKn"
      },
      "source": [
        "!pip install insightface==0.7.3 onnxruntime moviepy > /dev/null\n",
        "!pip install imageio==2.34.0 > /dev/null"
      ],
      "execution_count": null,
      "outputs": []
    },
    {
      "cell_type": "markdown",
      "metadata": {
        "id": "FsIncBIMwK5w"
      },
      "source": [
        "### (optional) GPEN"
      ]
    },
    {
      "cell_type": "code",
      "metadata": {
        "id": "pHBbZsuewSTR"
      },
      "source": [
        "%cd /workspace\n",
        "!git clone https://github.com/yangxy/GPEN.git\n",
        "\n",
        "# Remove the example input\n",
        "%rm -rf /workspace/GPEN/examples\n",
        "%mkdir -p /workspace/GPEN/examples/imgs"
      ],
      "execution_count": null,
      "outputs": []
    },
    {
      "cell_type": "code",
      "metadata": {
        "id": "29QABJ9rwTOz"
      },
      "source": [
        "%pip install ninja"
      ],
      "execution_count": null,
      "outputs": []
    },
    {
      "cell_type": "markdown",
      "metadata": {
        "id": "xTo1C8aPUoOh"
      },
      "source": [
        "## Prepare models"
      ]
    },
    {
      "cell_type": "markdown",
      "metadata": {
        "id": "bNKoqyUZxrz9"
      },
      "source": [
        "### SimSwap"
      ]
    },
    {
      "cell_type": "code",
      "metadata": {
        "id": "OuqD8a2-AWgN"
      },
      "source": [
        "%cp /workspace/data/antelope.zip /workspace/SimSwap/\n",
        "%cp /workspace/data/checkpoints.zip /workspace/SimSwap/\n",
        "%cp /workspace/data/arcface_checkpoint.tar /workspace/SimSwap/arcface_model/"
      ],
      "execution_count": null,
      "outputs": []
    },
    {
      "cell_type": "code",
      "metadata": {
        "id": "BQGu8shAWOPE"
      },
      "source": [
        "%cd /workspace/SimSwap"
      ],
      "execution_count": null,
      "outputs": []
    },
    {
      "cell_type": "code",
      "metadata": {
        "id": "gLti1J0pEFjJ"
      },
      "source": [
        "!wget https://github.com/woctezuma/SimSwap-colab/releases/download/antelope/antelope.zip\n",
        "!wget -P ./arcface_model https://github.com/woctezuma/SimSwap-colab/releases/download/1.0/arcface_checkpoint.tar\n",
        "!wget https://github.com/neuralchen/SimSwap/releases/download/1.0/checkpoints.zip\n",
        "!wget -P ./parsing_model/checkpoint https://github.com/neuralchen/SimSwap/releases/download/1.0/79999_iter.pth\n",
        "!wget https://github.com/neuralchen/SimSwap/releases/download/512_beta/512.zip"
      ],
      "execution_count": null,
      "outputs": []
    },
    {
      "cell_type": "code",
      "metadata": {
        "id": "lKAcJ4ngVEUV"
      },
      "source": [
        "%cd /workspace/SimSwap\n",
        "!unzip ./checkpoints.zip  -d ./checkpoints\n",
        "\n",
        "!unzip 512.zip -d ./checkpoints\n",
        "\n",
        "!unzip antelope.zip -d ./insightface_func/models/"
      ],
      "execution_count": null,
      "outputs": []
    },
    {
      "cell_type": "markdown",
      "metadata": {
        "id": "ZnVF1HDawaMq"
      },
      "source": [
        "### (optional) GPEN"
      ]
    },
    {
      "cell_type": "code",
      "metadata": {
        "id": "KBxo_GKoAWgT"
      },
      "source": [
        "%cp /workspace/data/RetinaFace-R50.pth /workspace/GPEN/weights/\n",
        "%cp /workspace/data/GPEN-512.pth /workspace/GPEN/weights/"
      ],
      "execution_count": null,
      "outputs": []
    },
    {
      "cell_type": "code",
      "metadata": {
        "id": "N0cA7UaSwZIO"
      },
      "source": [
        "# %cd /workspace/GPEN/weights\n",
        "# !wget https://public-vigen-video.oss-cn-shanghai.aliyuncs.com/robin/models/RetinaFace-R50.pth\n",
        "# !wget https://public-vigen-video.oss-cn-shanghai.aliyuncs.com/robin/models/GPEN-512.pth\n",
        "\n",
        "# %cp RetinaFace-R50.pth /workspace/data/\n",
        "# %cp GPEN-512.pth /workspace/data/"
      ],
      "execution_count": null,
      "outputs": []
    },
    {
      "cell_type": "markdown",
      "metadata": {
        "id": "_ZD8GPHsU4lN"
      },
      "source": [
        "## Prepare data"
      ]
    },
    {
      "cell_type": "markdown",
      "metadata": {
        "id": "T3YlcuLdVyZg"
      },
      "source": [
        "### Download"
      ]
    },
    {
      "cell_type": "code",
      "metadata": {
        "id": "f8SAi2SYSFmN"
      },
      "source": [
        "%cd /workspace\n",
        "\n",
        "!curl https://i.imgur.com/QYJOzy7.jpeg -o cpc_ackboo.jpg\n",
        "!curl https://i.imgur.com/l5MGOws.jpeg -o starwars_meme.jpg"
      ],
      "execution_count": null,
      "outputs": []
    },
    {
      "cell_type": "code",
      "metadata": {
        "id": "g-y81Z5dV3pR"
      },
      "source": [
        "input_fname = '/workspace/cpc_ackboo.jpg'\n",
        "output_fname = '/workspace/starwars_meme.jpg'"
      ],
      "execution_count": null,
      "outputs": []
    },
    {
      "cell_type": "markdown",
      "metadata": {
        "id": "rcoRX8OnVImS"
      },
      "source": [
        "### Convert to JPG\n",
        "\n",
        "Images should not be too large, hence the (arbitrary) limitation of 1024 length."
      ]
    },
    {
      "cell_type": "code",
      "metadata": {
        "id": "CLf-l1tjTY0W"
      },
      "source": [
        "def get_new_size(img_size,\n",
        "                 max_allowed_length = 1024):\n",
        "\n",
        "  if any(max_allowed_length < sz for sz in img_size):\n",
        "    long_length = max(img_size)\n",
        "    ratio = max_allowed_length / long_length\n",
        "  else:\n",
        "    ratio = 1.0\n",
        "\n",
        "  new_img_size = [\n",
        "                  int(ratio*sz)\n",
        "                  for sz in img_size\n",
        "                  ]\n",
        "\n",
        "  return tuple(new_img_size)"
      ],
      "execution_count": null,
      "outputs": []
    },
    {
      "cell_type": "code",
      "metadata": {
        "id": "UEOmN-DdPB5g"
      },
      "source": [
        "import glob\n",
        "from pathlib import Path\n",
        "from PIL import Image\n",
        "\n",
        "allow_resize = False\n",
        "\n",
        "for fname in glob.glob('/workspace/*.png'):\n",
        "  jpg_fname = fname.replace('.png', '.jpg')\n",
        "\n",
        "  try:\n",
        "    img = Image.open(fname)\n",
        "  except FileNotFoundError:\n",
        "    continue\n",
        "\n",
        "  new_size = get_new_size(img.size, max_allowed_length = 1024)\n",
        "  if allow_resize:\n",
        "    print(f'Resizing from {img.size} to {new_size}')\n",
        "    img.resize(new_size)\n",
        "\n",
        "  print(f'Saving to {jpg_fname}')\n",
        "  img.convert('RGB').save(jpg_fname)\n",
        "\n",
        "  Path(fname).unlink()"
      ],
      "execution_count": null,
      "outputs": []
    },
    {
      "cell_type": "code",
      "metadata": {
        "id": "28C1Aph0AWgX"
      },
      "source": [
        "jpg_input = input_fname.replace('.png', '.jpg')\n",
        "jpg_output = output_fname.replace('.png', '.jpg')"
      ],
      "execution_count": null,
      "outputs": []
    },
    {
      "cell_type": "markdown",
      "metadata": {
        "id": "VZBoCtU9U8B3"
      },
      "source": [
        "## Run"
      ]
    },
    {
      "cell_type": "code",
      "metadata": {
        "id": "w_bf119SAWgY"
      },
      "source": [
        "%mkdir -p /workspace/temp/"
      ],
      "execution_count": null,
      "outputs": []
    },
    {
      "cell_type": "markdown",
      "metadata": {
        "id": "tZ_ZBtDQVLco"
      },
      "source": [
        "### Single"
      ]
    },
    {
      "cell_type": "code",
      "metadata": {
        "id": "zywghoUNOAmS"
      },
      "source": [
        "%cd /workspace/SimSwap\n",
        "\n",
        "!python test_wholeimage_swapsingle.py \\\n",
        " --no_simswaplogo \\\n",
        " --use_mask \\\n",
        " --crop_size 512 \\\n",
        " --isTrain false  --name people \\\n",
        " --Arc_path arcface_model/arcface_checkpoint.tar \\\n",
        " --pic_a_path {jpg_input} \\\n",
        " --pic_b_path {jpg_output} \\\n",
        " --output_path /workspace/temp/"
      ],
      "execution_count": null,
      "outputs": []
    },
    {
      "cell_type": "markdown",
      "metadata": {
        "id": "9MxvjygsVNb4"
      },
      "source": [
        "### Multi"
      ]
    },
    {
      "cell_type": "code",
      "metadata": {
        "id": "PudoS9JBRsOs"
      },
      "source": [
        "%cd /workspace/SimSwap\n",
        "\n",
        "!python test_wholeimage_swapmulti.py \\\n",
        " --no_simswaplogo \\\n",
        " --use_mask \\\n",
        " --crop_size 512 \\\n",
        " --isTrain false  --name people \\\n",
        " --Arc_path arcface_model/arcface_checkpoint.tar \\\n",
        " --pic_a_path {jpg_input} \\\n",
        " --pic_b_path {jpg_output} \\\n",
        " --output_path /workspace/temp/"
      ],
      "execution_count": null,
      "outputs": []
    },
    {
      "cell_type": "markdown",
      "metadata": {
        "id": "Sa7G_sL2w7u8"
      },
      "source": [
        "## (optional) Post-process with GPEN"
      ]
    },
    {
      "cell_type": "code",
      "metadata": {
        "id": "x1MrYBsLw_mf"
      },
      "source": [
        "%cp /workspace/temp/result_whole_swapsingle.jpg /workspace/GPEN/examples/imgs/\n",
        "%cp /workspace/temp/result_whole_swapmutil.jpg /workspace/GPEN/examples/imgs/"
      ],
      "execution_count": null,
      "outputs": []
    },
    {
      "cell_type": "code",
      "metadata": {
        "id": "QGADNS6vw9PC"
      },
      "source": [
        "%cd /workspace/GPEN\n",
        "!python face_enhancement.py"
      ],
      "execution_count": null,
      "outputs": []
    }
  ]
}
